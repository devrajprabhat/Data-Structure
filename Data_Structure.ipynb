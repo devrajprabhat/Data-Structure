{
  "nbformat": 4,
  "nbformat_minor": 0,
  "metadata": {
    "colab": {
      "provenance": []
    },
    "kernelspec": {
      "name": "python3",
      "display_name": "Python 3"
    },
    "language_info": {
      "name": "python"
    }
  },
  "cells": [
    {
      "cell_type": "markdown",
      "source": [
        "# **Data Types and Structures Questions**"
      ],
      "metadata": {
        "id": "hhVqR4km3J2W"
      }
    },
    {
      "cell_type": "markdown",
      "source": [
        "1. What are data structures, and why are they important.\n",
        "   - Data structures are specialized formats for organizing, processing, and storing data in a computer. They enable efficient data management. Data structures are important because they help in:\n",
        "* Efficient Data Access: They allow for quick retrieval and modification of data.\n",
        "* Memory Management: They help in organizing data in a way that minimizes memory usage.\n",
        "* Algorithm Efficiency: Certain data structures can significantly speed up the execution of algorithms."
      ],
      "metadata": {
        "id": "5ciK71wd3fQi"
      }
    },
    {
      "cell_type": "markdown",
      "source": [
        "# 2. Explain the difference between mutable and immutable data types with examples.\n",
        "   - data types can be classified as mutable or immutable:\n",
        "* Mutable Data Types: These can be changed after their creation. Examples include:\n",
        "* Lists: You can add, remove, or change elements.\n",
        "Dictionaries: You can modify key-value pairs.\n",
        "* Immutable Data Types: These cannot be changed once created. Examples include:\n",
        "* Tuples: Once defined, their elements cannot be altered.\n",
        "Strings: Any modification results in a new string being created."
      ],
      "metadata": {
        "id": "t_62FkY84Qou"
      }
    },
    {
      "cell_type": "markdown",
      "source": [
        "3.  What are the main differences between lists and tuples in Python.\n",
        "   - Mutability: Lists are mutable, meaning you can change their content, while tuples are immutable and cannot be altered after creation.\n",
        "* Syntax: Lists are defined using square brackets [], while tuples use parentheses ().\n",
        "* Performance: Tuples can be slightly more memory efficient than lists due to their immutability."
      ],
      "metadata": {
        "id": "cua5rAdF52qj"
      }
    },
    {
      "cell_type": "markdown",
      "source": [
        "4. Describe how dictionaries store data.\n",
        "   - Dictionaries in Python store data in key-value pairs. Each key is unique and maps to a specific value, allowing for efficient data retrieval."
      ],
      "metadata": {
        "id": "vMG6i15N6o_a"
      }
    },
    {
      "cell_type": "markdown",
      "source": [
        "5.  Why might you use a set instead of a list in Python.\n",
        "  - ets are used instead of lists when you need to ensure that all elements are unique. They automatically handle duplicate values by only storing one instance of each element"
      ],
      "metadata": {
        "id": "Ox3AQBK764yO"
      }
    },
    {
      "cell_type": "markdown",
      "source": [
        "6. What is a string in Python, and how is it different from a list.\n",
        "   - A string in Python is a sequence of characters, while a list is a collection of items that can be of different data types. Strings are immutable, meaning once created, they cannot be changed, whereas lists are mutable and can be modified."
      ],
      "metadata": {
        "id": "A7GNPSuT7Jhq"
      }
    },
    {
      "cell_type": "markdown",
      "source": [
        "7.  How do tuples ensure data integrity in Python.\n",
        "   -  Tuples are immutable, data inside them remains unchanged, preventing accidental modifications."
      ],
      "metadata": {
        "id": "17_K-NU17fiS"
      }
    },
    {
      "cell_type": "markdown",
      "source": [
        "8.  What is a hash table, and how does it relate to dictionaries in Python.\n",
        "   - A hash table is a data structure that maps keys to values using a hash function. Python dictionaries use hash tables internally for fast lookups."
      ],
      "metadata": {
        "id": "XYJoVK_g74QC"
      }
    },
    {
      "cell_type": "markdown",
      "source": [
        "9. Can lists contain different data types in Python.\n",
        "   - Yes, lists in Python can contain different data types. For example, a list can include integers, strings, and even other lists or dictionaries."
      ],
      "metadata": {
        "id": "MgAy94CS8GN-"
      }
    },
    {
      "cell_type": "markdown",
      "source": [
        "10.  Explain why strings are immutable in Python.\n",
        "   - Strings are immutable in Python to ensure that they remain constant and to optimize performance."
      ],
      "metadata": {
        "id": "maNS9y7W8SWD"
      }
    },
    {
      "cell_type": "markdown",
      "source": [
        "11. What advantages do dictionaries offer over lists for certain tasks.\n",
        "   - Dictionaries offer several advantages over lists, particularly for tasks that require fast lookups. They allow for:\n",
        "* Key-based access: You can retrieve values using keys rather than indices.\n",
        "* Faster lookups: Average-case time complexity for lookups in dictionaries is O(1), compared to O(n) for lists."
      ],
      "metadata": {
        "id": "3sVIjXe-8f5s"
      }
    },
    {
      "cell_type": "markdown",
      "source": [
        "12. Describe a scenario where using a tuple would be preferable over a list.\n",
        "   - When data should not change, like storing database records."
      ],
      "metadata": {
        "id": "5hjj_g0S85bT"
      }
    },
    {
      "cell_type": "markdown",
      "source": [
        "13.  How do sets handle duplicate values in Python.\n",
        "   - Sets automatically remove duplicates."
      ],
      "metadata": {
        "id": "MD8IaEU-9GnA"
      }
    },
    {
      "cell_type": "markdown",
      "source": [
        "14. How does the “in” keyword work differently for lists and dictionaries.\n",
        "   - The in keyword checks for membership differently in lists and dictionaries:\n",
        "* In lists, it checks if an element exists in the list.\n",
        "* In dictionaries, it checks if a key exists in the dictionary"
      ],
      "metadata": {
        "id": "rB0x9juH9R-U"
      }
    },
    {
      "cell_type": "markdown",
      "source": [
        "15.  Can you modify the elements of a tuple? Explain why or why not.\n",
        "   - No, because tuples are immutable. However, if a tuple contains a mutable object (like a list), that object can be changed."
      ],
      "metadata": {
        "id": "h7NhqBOs9h1D"
      }
    },
    {
      "cell_type": "markdown",
      "source": [
        "16.  What is a nested dictionary, and give an example of its use case.\n",
        "   - A dictionary inside another dictionary."
      ],
      "metadata": {
        "id": "JLtYec5g9vYd"
      }
    },
    {
      "cell_type": "code",
      "source": [
        "nested_dict = {\n",
        "    'person1': {'name': 'Devraj', 'age': 21},\n",
        "    'person2': {'name': 'Abha', 'age': 21}\n",
        "}"
      ],
      "metadata": {
        "id": "g_Qetb1M-EIv"
      },
      "execution_count": 2,
      "outputs": []
    },
    {
      "cell_type": "markdown",
      "source": [
        "17. Describe the time complexity of accessing elements in a dictionary.\n",
        "   - Accessing elements in a dictionary has an average time complexity of O(1). making it very efficient for lookups."
      ],
      "metadata": {
        "id": "-0a_iPGI-S_b"
      }
    },
    {
      "cell_type": "markdown",
      "source": [
        "18.  In what situations are lists preferred over dictionaries.\n",
        "   - * When order matters.\n",
        "* When the data needs indexing (e.g., accessing by position)."
      ],
      "metadata": {
        "id": "ykdHwhOO-yLW"
      }
    },
    {
      "cell_type": "markdown",
      "source": [
        "19.  Why are dictionaries considered unordered, and how does that affect data retrieval.\n",
        "   - Dictionaries are considered unordered because they do not maintain the order of elements based on insertion. This affects data retrieval since you cannot rely on the order of keys when accessing values."
      ],
      "metadata": {
        "id": "6AL4zyce_JOe"
      }
    },
    {
      "cell_type": "markdown",
      "source": [
        "20.  Explain the difference between a list and a dictionary in terms of data retrieval.\n",
        "   - * Lists use indices to access elements, which can be slower for large datasets.\n",
        "* Dictionaries use keys for direct access, allowing for faster lookups."
      ],
      "metadata": {
        "id": "5YM42vZf_gHL"
      }
    },
    {
      "cell_type": "markdown",
      "source": [
        "# **Practical Questions**"
      ],
      "metadata": {
        "id": "8WKyYZJ6_xAg"
      }
    },
    {
      "cell_type": "code",
      "source": [
        "# 1.  Write a code to create a string with your name and print it.\n",
        "name = \"Devraj Prabhat\"\n",
        "print(name)"
      ],
      "metadata": {
        "colab": {
          "base_uri": "https://localhost:8080/"
        },
        "id": "UZGZtOP2_3RR",
        "outputId": "bb99c4c9-8499-4258-fe40-453a56b19b87"
      },
      "execution_count": 3,
      "outputs": [
        {
          "output_type": "stream",
          "name": "stdout",
          "text": [
            "Devraj Prabhat\n"
          ]
        }
      ]
    },
    {
      "cell_type": "code",
      "source": [
        "# 2.  Write a code to find the length of the string \"Hello World\".\n",
        "length = len(\"Hello World\")\n",
        "print(length)"
      ],
      "metadata": {
        "colab": {
          "base_uri": "https://localhost:8080/"
        },
        "id": "upwYR66eAE12",
        "outputId": "431dc86a-145a-481c-bb92-75630b5e534f"
      },
      "execution_count": 4,
      "outputs": [
        {
          "output_type": "stream",
          "name": "stdout",
          "text": [
            "11\n"
          ]
        }
      ]
    },
    {
      "cell_type": "code",
      "source": [
        "# 3.  Write a code to slice the first 3 characters from the string \"Python Programming.\n",
        "string = \"Python Programming\"\n",
        "sliced_string = string[:3]\n",
        "print(sliced_string)"
      ],
      "metadata": {
        "colab": {
          "base_uri": "https://localhost:8080/"
        },
        "id": "VWWBlvCEAR21",
        "outputId": "6d080438-eec4-4c35-fd02-aa2c17f2615a"
      },
      "execution_count": 5,
      "outputs": [
        {
          "output_type": "stream",
          "name": "stdout",
          "text": [
            "Pyt\n"
          ]
        }
      ]
    },
    {
      "cell_type": "code",
      "source": [
        "# 4. Write a code to convert the string \"hello\" to uppercase.\n",
        "uppercase_string = \"hello\".upper()\n",
        "print(uppercase_string)"
      ],
      "metadata": {
        "id": "19sSMwwfAdB7",
        "colab": {
          "base_uri": "https://localhost:8080/"
        },
        "outputId": "75570bdf-fdc8-49f6-9ab2-ca057c04b194"
      },
      "execution_count": 7,
      "outputs": [
        {
          "output_type": "stream",
          "name": "stdout",
          "text": [
            "HELLO\n"
          ]
        }
      ]
    },
    {
      "cell_type": "code",
      "source": [
        "# 5. Write a code to replace the word \"apple\" with \"orange\" in the string \"I like apple\".\n",
        "string = \"I like apple\"\n",
        "new_string = string.replace(\"apple\", \"orange\")\n",
        "print(new_string)"
      ],
      "metadata": {
        "colab": {
          "base_uri": "https://localhost:8080/"
        },
        "id": "sfcu2lKwAydU",
        "outputId": "0fdc987b-9579-417a-ebeb-4c99a7eeb098"
      },
      "execution_count": 8,
      "outputs": [
        {
          "output_type": "stream",
          "name": "stdout",
          "text": [
            "I like orange\n"
          ]
        }
      ]
    },
    {
      "cell_type": "code",
      "source": [
        "# 6. Write a code to create a list with numbers 1 to 5 and print it.\n",
        "numbers = [1, 2, 3, 4, 5]\n",
        "print(numbers)"
      ],
      "metadata": {
        "colab": {
          "base_uri": "https://localhost:8080/"
        },
        "id": "3bdHiBqJA_ep",
        "outputId": "510f82d0-909c-4403-a90f-ba9fa17d1f95"
      },
      "execution_count": 9,
      "outputs": [
        {
          "output_type": "stream",
          "name": "stdout",
          "text": [
            "[1, 2, 3, 4, 5]\n"
          ]
        }
      ]
    },
    {
      "cell_type": "code",
      "source": [
        "# 7.  Write a code to append the number 10 to the list [1, 2, 3, 4].\n",
        "numbers = [1, 2, 3, 4]\n",
        "numbers.append(10)\n",
        "print(numbers)"
      ],
      "metadata": {
        "colab": {
          "base_uri": "https://localhost:8080/"
        },
        "id": "c5JzZiiGBH7I",
        "outputId": "2b203ad2-b6f5-4e5d-86fc-b29d22b48daf"
      },
      "execution_count": 10,
      "outputs": [
        {
          "output_type": "stream",
          "name": "stdout",
          "text": [
            "[1, 2, 3, 4, 10]\n"
          ]
        }
      ]
    },
    {
      "cell_type": "code",
      "source": [
        "# 8.  Write a code to remove the number 3 from the list [1, 2, 3, 4, 5].\n",
        "numbers = [1, 2, 3, 4, 5]\n",
        "numbers.remove(3)\n",
        "print(numbers)"
      ],
      "metadata": {
        "colab": {
          "base_uri": "https://localhost:8080/"
        },
        "id": "ogTYhaBQBRnW",
        "outputId": "c3293142-dc77-4e7a-d1c1-628e872573e5"
      },
      "execution_count": 11,
      "outputs": [
        {
          "output_type": "stream",
          "name": "stdout",
          "text": [
            "[1, 2, 4, 5]\n"
          ]
        }
      ]
    },
    {
      "cell_type": "code",
      "source": [
        "# 9.  Write a code to access the second element in the list ['a', 'b', 'c', 'd'].\n",
        "letters = ['a', 'b', 'c', 'd']\n",
        "second_element = letters[1]\n",
        "print(second_element)"
      ],
      "metadata": {
        "colab": {
          "base_uri": "https://localhost:8080/"
        },
        "id": "MvEQgf2dBiVe",
        "outputId": "a1fba26f-234a-4e6a-c688-a71b14c9c263"
      },
      "execution_count": 12,
      "outputs": [
        {
          "output_type": "stream",
          "name": "stdout",
          "text": [
            "b\n"
          ]
        }
      ]
    },
    {
      "cell_type": "code",
      "source": [
        "# 10. Write a code to reverse the list [10, 20, 30, 40, 50].\n",
        "numbers = [10, 20, 30, 40, 50]\n",
        "reversed_numbers = numbers[: :-1]\n",
        "print(reversed_numbers)"
      ],
      "metadata": {
        "colab": {
          "base_uri": "https://localhost:8080/"
        },
        "id": "RpBPQpS-BpbR",
        "outputId": "fdaaada8-bb4b-4835-a588-1192027eceb6"
      },
      "execution_count": 15,
      "outputs": [
        {
          "output_type": "stream",
          "name": "stdout",
          "text": [
            "[50, 40, 30, 20, 10]\n"
          ]
        }
      ]
    },
    {
      "cell_type": "code",
      "source": [
        "#11.  Write a code to create a tuple with the elements 100, 200, 300 and print it.\n",
        "numbers = (100, 200, 300)\n",
        "print(numbers)"
      ],
      "metadata": {
        "colab": {
          "base_uri": "https://localhost:8080/"
        },
        "id": "TYzB8Xy6ByFJ",
        "outputId": "39923cec-b102-440e-b7d3-07a1c49a0ebc"
      },
      "execution_count": 16,
      "outputs": [
        {
          "output_type": "stream",
          "name": "stdout",
          "text": [
            "(100, 200, 300)\n"
          ]
        }
      ]
    },
    {
      "cell_type": "code",
      "source": [
        "# 12. Write a code to access the second-to-last element of the tuple ('red', 'green', 'blue', 'yellow').\n",
        "colors = ('red', 'green', 'blue', 'yellow')\n",
        "second_to_last = colors[-2]\n",
        "print(second_to_last)"
      ],
      "metadata": {
        "colab": {
          "base_uri": "https://localhost:8080/"
        },
        "id": "unfl8MjjCFSi",
        "outputId": "c57f8e6d-237c-4e43-cf5d-cc5baa80df77"
      },
      "execution_count": 17,
      "outputs": [
        {
          "output_type": "stream",
          "name": "stdout",
          "text": [
            "blue\n"
          ]
        }
      ]
    },
    {
      "cell_type": "code",
      "source": [
        "# 13.  Write a code to find the minimum number in the tuple (10, 20, 5, 15).\n",
        "minimum = min((10, 20, 5, 15))\n",
        "print(minimum)"
      ],
      "metadata": {
        "colab": {
          "base_uri": "https://localhost:8080/"
        },
        "id": "33GR_l4tCNbg",
        "outputId": "b20a1a7e-c0e1-4719-b206-393cf7471b79"
      },
      "execution_count": 18,
      "outputs": [
        {
          "output_type": "stream",
          "name": "stdout",
          "text": [
            "5\n"
          ]
        }
      ]
    },
    {
      "cell_type": "code",
      "source": [
        "# 14.  Write a code to find the index of the element \"cat\" in the tuple ('dog', 'cat', 'rabbit').\n",
        "colors = ('dog', 'cat', 'rabbit')\n",
        "index = colors.index('cat')\n",
        "print(index)"
      ],
      "metadata": {
        "colab": {
          "base_uri": "https://localhost:8080/"
        },
        "id": "bc6PvYEOCXFo",
        "outputId": "55cdf50d-119d-486e-c478-9aaebd42d82c"
      },
      "execution_count": 19,
      "outputs": [
        {
          "output_type": "stream",
          "name": "stdout",
          "text": [
            "1\n"
          ]
        }
      ]
    },
    {
      "cell_type": "code",
      "source": [
        "# 15.  Write a code to create a tuple containing three different fruits and check if \"kiwi\" is in it.\n",
        "fruits = ('apple', 'banana', 'orange')\n",
        "is_kiwi_in_tuple = 'kiwi' in fruits\n",
        "print(is_kiwi_in_tuple)"
      ],
      "metadata": {
        "colab": {
          "base_uri": "https://localhost:8080/"
        },
        "id": "DAozXrd7Cc2G",
        "outputId": "029c6093-272a-4ae0-c323-74ada987013e"
      },
      "execution_count": 20,
      "outputs": [
        {
          "output_type": "stream",
          "name": "stdout",
          "text": [
            "False\n"
          ]
        }
      ]
    },
    {
      "cell_type": "code",
      "source": [
        "# 16. Write a code to create a set with the elements 'a', 'b', 'c' and print it.\n",
        "letters = {'a', 'b', 'c'}\n",
        "print(letters)"
      ],
      "metadata": {
        "colab": {
          "base_uri": "https://localhost:8080/"
        },
        "id": "UMuiutwJCqob",
        "outputId": "1d225051-c6ea-4700-a648-ea779af652e6"
      },
      "execution_count": 21,
      "outputs": [
        {
          "output_type": "stream",
          "name": "stdout",
          "text": [
            "{'b', 'c', 'a'}\n"
          ]
        }
      ]
    },
    {
      "cell_type": "code",
      "source": [
        "# 17.  Write a code to clear all elements from the set {1, 2, 3, 4, 5}.\n",
        "numbers = {1, 2, 3, 4, 5}\n",
        "numbers.clear()\n",
        "print(numbers)"
      ],
      "metadata": {
        "colab": {
          "base_uri": "https://localhost:8080/"
        },
        "id": "yC3J4UXsCyl2",
        "outputId": "49752b10-6dac-4b72-f9d0-29e22a9ff478"
      },
      "execution_count": 22,
      "outputs": [
        {
          "output_type": "stream",
          "name": "stdout",
          "text": [
            "set()\n"
          ]
        }
      ]
    },
    {
      "cell_type": "code",
      "source": [
        "# 18.  Write a code to remove the element 4 from the set {1, 2, 3, 4}.\n",
        "my_list = [1, 2, 3, 4, ]\n",
        "my_list.remove(4)\n",
        "print(my_list)"
      ],
      "metadata": {
        "colab": {
          "base_uri": "https://localhost:8080/"
        },
        "id": "iXraDTVHC3_7",
        "outputId": "df41204c-c46c-46ca-fca5-7c1f73dc6363"
      },
      "execution_count": 24,
      "outputs": [
        {
          "output_type": "stream",
          "name": "stdout",
          "text": [
            "[1, 2, 3]\n"
          ]
        }
      ]
    },
    {
      "cell_type": "code",
      "source": [
        "# 19.  Write a code to find the union of two sets {1, 2, 3} and {3, 4, 5}.\n",
        "set1 = {1, 2, 3}\n",
        "set2 = {3, 4, 5}\n",
        "union_set = set1.union(set2)\n",
        "print(union_set)"
      ],
      "metadata": {
        "colab": {
          "base_uri": "https://localhost:8080/"
        },
        "id": "2imsBtu2DDnU",
        "outputId": "e35996c9-98a2-4062-cd70-3672f18383d8"
      },
      "execution_count": 25,
      "outputs": [
        {
          "output_type": "stream",
          "name": "stdout",
          "text": [
            "{1, 2, 3, 4, 5}\n"
          ]
        }
      ]
    },
    {
      "cell_type": "code",
      "source": [
        "# 20.  Write a code to find the intersection of two sets {1, 2, 3} and {2, 3, 4}.\n",
        "set1 = {1, 2, 3}\n",
        "set2 = {2, 3, 4}\n",
        "intersection_set = set1.intersection(set2)\n",
        "print(intersection_set)"
      ],
      "metadata": {
        "colab": {
          "base_uri": "https://localhost:8080/"
        },
        "id": "Aoz1cZ7xDh6i",
        "outputId": "4411f50c-ab27-4cdd-9966-92778d132ef4"
      },
      "execution_count": 26,
      "outputs": [
        {
          "output_type": "stream",
          "name": "stdout",
          "text": [
            "{2, 3}\n"
          ]
        }
      ]
    },
    {
      "cell_type": "code",
      "source": [
        "# 21. Write a code to create a dictionary with the keys \"name\", \"age\", and \"city\", and print it.\n",
        "my_dict = {\"name\": \"Devraj\", \"age\": 21, \"city\": \"Hazaribagh\"}\n",
        "print(my_dict)"
      ],
      "metadata": {
        "colab": {
          "base_uri": "https://localhost:8080/"
        },
        "id": "409l9UHNDrk2",
        "outputId": "ca015b5a-9a4c-4e8c-a329-5382242fdcfc"
      },
      "execution_count": 27,
      "outputs": [
        {
          "output_type": "stream",
          "name": "stdout",
          "text": [
            "{'name': 'Devraj', 'age': 21, 'city': 'Hazaribagh'}\n"
          ]
        }
      ]
    },
    {
      "cell_type": "code",
      "source": [
        "# 22.  Write a code to add a new key-value pair \"country\": \"USA\" to the dictionary {'name': 'John', 'age': 25}.\n",
        "my_dict = {'name': 'John', 'age': 25}\n",
        "my_dict['country'] = 'USA'\n",
        "print(my_dict)"
      ],
      "metadata": {
        "colab": {
          "base_uri": "https://localhost:8080/"
        },
        "id": "p65bA8c3ECsl",
        "outputId": "3db8c377-78b6-4084-85ae-66f221c27d0c"
      },
      "execution_count": 28,
      "outputs": [
        {
          "output_type": "stream",
          "name": "stdout",
          "text": [
            "{'name': 'John', 'age': 25, 'country': 'USA'}\n"
          ]
        }
      ]
    },
    {
      "cell_type": "code",
      "source": [
        "# 23.  Write a code to access the value associated with the key \"name\" in the dictionary {'name': 'Alice', 'age': 30}.\n",
        "my_dict = {'name': 'Alice', 'age': 30}\n",
        "name_value = my_dict['name']\n",
        "print(name_value)"
      ],
      "metadata": {
        "colab": {
          "base_uri": "https://localhost:8080/"
        },
        "id": "BUNiprDjEP-H",
        "outputId": "3855f695-7cf0-4f9d-9fcf-266b8f37d5a7"
      },
      "execution_count": 29,
      "outputs": [
        {
          "output_type": "stream",
          "name": "stdout",
          "text": [
            "Alice\n"
          ]
        }
      ]
    },
    {
      "cell_type": "code",
      "source": [
        "# 24. Write a code to remove the key \"age\" from the dictionary {'name': 'Bob', 'age': 22, 'city': 'New York'}.\n",
        "my_dict = {'name': 'Bob', 'age': 22, 'city': 'New York'}\n",
        "del my_dict['age']\n",
        "print(my_dict)"
      ],
      "metadata": {
        "colab": {
          "base_uri": "https://localhost:8080/"
        },
        "id": "CF97Q06wEYrz",
        "outputId": "2224c971-be94-4033-ed12-1fdf57a58681"
      },
      "execution_count": 30,
      "outputs": [
        {
          "output_type": "stream",
          "name": "stdout",
          "text": [
            "{'name': 'Bob', 'city': 'New York'}\n"
          ]
        }
      ]
    },
    {
      "cell_type": "code",
      "source": [
        "# 25.  Write a code to check if the key \"city\" exists in the dictionary {'name': 'Alice', 'city': 'Paris'}.\n",
        "my_dict = {'name': 'Alice', 'city': 'Paris'}\n",
        "key_exists = 'city' in my_dict\n",
        "print(key_exists)"
      ],
      "metadata": {
        "colab": {
          "base_uri": "https://localhost:8080/"
        },
        "id": "b2DEJiv7EhcR",
        "outputId": "fa7140b3-2021-4859-ad1d-fd21559ae83c"
      },
      "execution_count": 31,
      "outputs": [
        {
          "output_type": "stream",
          "name": "stdout",
          "text": [
            "True\n"
          ]
        }
      ]
    },
    {
      "cell_type": "code",
      "source": [
        "# 26. Write a code to create a list, a tuple, and a dictionary, and print them all.\n",
        "my_list = [7, 3, 6]\n",
        "my_tuple = (9, 8, 3)\n",
        "my_dict = {'key': 'value'}\n",
        "print(my_list, my_tuple, my_dict)"
      ],
      "metadata": {
        "colab": {
          "base_uri": "https://localhost:8080/"
        },
        "id": "R--63SvbEqo5",
        "outputId": "4e11f2ce-b423-4317-a460-e4d8bb644b07"
      },
      "execution_count": 33,
      "outputs": [
        {
          "output_type": "stream",
          "name": "stdout",
          "text": [
            "[7, 3, 6] (9, 8, 3) {'key': 'value'}\n"
          ]
        }
      ]
    },
    {
      "cell_type": "code",
      "source": [
        "# 27. Write a code to create a list of 5 random numbers between 1 and 100, sort it in ascending order, and print the result.(replaced).\n",
        "import random\n",
        "random_numbers = random.sample(range(1, 101), 5)\n",
        "random_numbers.sort()\n",
        "print(random_numbers)"
      ],
      "metadata": {
        "colab": {
          "base_uri": "https://localhost:8080/"
        },
        "id": "wCu8sAbTE5zj",
        "outputId": "5acea846-18ca-4c8c-af1b-48fee1a5e1e4"
      },
      "execution_count": 35,
      "outputs": [
        {
          "output_type": "stream",
          "name": "stdout",
          "text": [
            "[4, 11, 39, 42, 78]\n"
          ]
        }
      ]
    },
    {
      "cell_type": "code",
      "source": [
        "# 28. Write a code to create a list with strings and print the element at the third index.\n",
        "string_list = ['DevrajPrabhat', 'Archna', 'Sakshi', 'Abha', 'Lalita']\n",
        "third_index_element = string_list[3]\n",
        "print(third_index_element)"
      ],
      "metadata": {
        "colab": {
          "base_uri": "https://localhost:8080/"
        },
        "id": "iu7agfNJFdvs",
        "outputId": "b375ed57-af12-4294-a508-89fd99d08309"
      },
      "execution_count": 37,
      "outputs": [
        {
          "output_type": "stream",
          "name": "stdout",
          "text": [
            "Abha\n"
          ]
        }
      ]
    },
    {
      "cell_type": "code",
      "source": [
        "# 29. Write a code to combine two dictionaries into one and print the result.\n",
        "dict1 = {'a': 'Abha', 'b': 'DevrajPrabhat'}\n",
        "dict2 = {'c': 'Sakshi', 'd': 'Lalita'}\n",
        "combined_dict = {**dict1, **dict2}\n",
        "print(combined_dict)"
      ],
      "metadata": {
        "colab": {
          "base_uri": "https://localhost:8080/"
        },
        "id": "uHz44_q9F1m1",
        "outputId": "24799289-e02b-4251-ce74-4d74dddc088b"
      },
      "execution_count": 40,
      "outputs": [
        {
          "output_type": "stream",
          "name": "stdout",
          "text": [
            "{'a': 'Abha', 'b': 'DevrajPrabhat', 'c': 'Sakshi', 'd': 'Lalita'}\n"
          ]
        }
      ]
    },
    {
      "cell_type": "code",
      "source": [
        "# 30.  Write a code to convert a list of strings into a set.\n",
        "string_list = ['Abha', 'DevrajPrabhat', 'Sakshi', 'Lalita']\n",
        "string_set = set(string_list)\n",
        "print(string_set)"
      ],
      "metadata": {
        "colab": {
          "base_uri": "https://localhost:8080/"
        },
        "id": "k7PdbvgOGZA2",
        "outputId": "9d29e867-f387-4048-e33e-cbbe0d4a13ff"
      },
      "execution_count": 41,
      "outputs": [
        {
          "output_type": "stream",
          "name": "stdout",
          "text": [
            "{'Abha', 'Lalita', 'Sakshi', 'DevrajPrabhat'}\n"
          ]
        }
      ]
    }
  ]
}